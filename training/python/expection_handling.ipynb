{
 "cells": [
  {
   "cell_type": "code",
   "execution_count": 1,
   "metadata": {},
   "outputs": [],
   "source": [
    "# In Python, there are several built-in Python exceptions that can be raised when an error occurs during the execution of a\n",
    "#  program. Here are some of the most common types of exceptions in Python:\n",
    "\n",
    "# SyntaxError: This exception is raised when the interpreter encounters a syntax error in the code,\n",
    "#  such as a misspelled keyword, a missing colon, or an unbalanced parenthesis.\n",
    "# TypeError: This exception is raised when an operation or function is applied to an object of the wrong\n",
    "#  type, such as adding a string to an integer.\n",
    "# NameError: This exception is raised when a variable or function name is not found in the current scope.\n",
    "# IndexError: This exception is raised when an index is out of range for a list, tuple, or other sequence types.\n",
    "# KeyError: This exception is raised when a key is not found in a dictionary.\n",
    "# ValueError: This exception is raised when a function or method is called with an invalid argument or input, \n",
    "# such as trying to convert a string to an integer when the string does not represent a valid integer.\n",
    "# AttributeError: This exception is raised when an attribute or method is not found on an object, such as trying\n",
    "#  to access a non-existent attribute of a class instance.\n",
    "# IOError: This exception is raised when an I/O operation, such as reading or writing a file, fails due to an input/output error.\n",
    "# ZeroDivisionError: This exception is raised when an attempt is made to divide a number by zero.\n",
    "# ImportError: This exception is raised when an import statement fails to find or load a module."
   ]
  },
  {
   "cell_type": "code",
   "execution_count": 5,
   "metadata": {},
   "outputs": [],
   "source": [
    "# age = 20 \n",
    "# text = \" my age is \" \n",
    "# print(text)"
   ]
  },
  {
   "cell_type": "code",
   "execution_count": 4,
   "metadata": {},
   "outputs": [
    {
     "ename": "IndexError",
     "evalue": "list index out of range",
     "output_type": "error",
     "traceback": [
      "\u001b[1;31m---------------------------------------------------------------------------\u001b[0m",
      "\u001b[1;31mIndexError\u001b[0m                                Traceback (most recent call last)",
      "Cell \u001b[1;32mIn[4], line 3\u001b[0m\n\u001b[0;32m      1\u001b[0m lst \u001b[38;5;241m=\u001b[39m [\u001b[38;5;241m1\u001b[39m,\u001b[38;5;241m2\u001b[39m,\u001b[38;5;241m3\u001b[39m]\n\u001b[1;32m----> 3\u001b[0m \u001b[38;5;28mprint\u001b[39m(\u001b[43mlst\u001b[49m\u001b[43m[\u001b[49m\u001b[38;5;241;43m3\u001b[39;49m\u001b[43m]\u001b[49m)  \u001b[38;5;66;03m# IndexError: list index out of range\u001b[39;00m\n",
      "\u001b[1;31mIndexError\u001b[0m: list index out of range"
     ]
    }
   ],
   "source": [
    "# lst = [1,2,3]\n",
    "\n",
    "# print(lst[3])  # IndexError: list index out of range"
   ]
  },
  {
   "cell_type": "code",
   "execution_count": 6,
   "metadata": {},
   "outputs": [
    {
     "ename": "ValueError",
     "evalue": "invalid literal for int() with base 10: 'dfghjk'",
     "output_type": "error",
     "traceback": [
      "\u001b[1;31m---------------------------------------------------------------------------\u001b[0m",
      "\u001b[1;31mValueError\u001b[0m                                Traceback (most recent call last)",
      "Cell \u001b[1;32mIn[6], line 1\u001b[0m\n\u001b[1;32m----> 1\u001b[0m num \u001b[38;5;241m=\u001b[39m \u001b[38;5;28;43mint\u001b[39;49m\u001b[43m(\u001b[49m\u001b[38;5;28;43minput\u001b[39;49m\u001b[43m(\u001b[49m\u001b[38;5;124;43m\"\u001b[39;49m\u001b[38;5;124;43menter number\u001b[39;49m\u001b[38;5;124;43m\"\u001b[39;49m\u001b[43m)\u001b[49m\u001b[43m)\u001b[49m\n\u001b[0;32m      2\u001b[0m \u001b[38;5;28mprint\u001b[39m(num)\n",
      "\u001b[1;31mValueError\u001b[0m: invalid literal for int() with base 10: 'dfghjk'"
     ]
    }
   ],
   "source": [
    "num = int(input(\"enter number\"))\n",
    "print(num)"
   ]
  },
  {
   "cell_type": "code",
   "execution_count": null,
   "metadata": {},
   "outputs": [],
   "source": [
    "# ## try, (code come here)\n",
    "# except (deals with error)\n",
    "# else   (if your code dosent have any error)\n",
    "# finally ()"
   ]
  },
  {
   "cell_type": "code",
   "execution_count": 9,
   "metadata": {},
   "outputs": [
    {
     "name": "stdout",
     "output_type": "stream",
     "text": [
      "An error occurred:  can only concatenate str (not \"int\") to str\n",
      "Finally block executed\n"
     ]
    }
   ],
   "source": [
    "# try:\n",
    "#     age = 20 \n",
    "#     text = \" my age is \"  + age\n",
    "#     print(text)\n",
    "# except SyntaxError as e  :\n",
    "#     print(\"An error occurred: \", e)\n",
    "# else:\n",
    "#     print(\"No error occurred\")\n",
    "\n",
    "# finally:\n",
    "#     print(\"Finally block executed\")"
   ]
  },
  {
   "cell_type": "code",
   "execution_count": null,
   "metadata": {},
   "outputs": [],
   "source": []
  },
  {
   "cell_type": "code",
   "execution_count": null,
   "metadata": {},
   "outputs": [],
   "source": []
  },
  {
   "cell_type": "code",
   "execution_count": null,
   "metadata": {},
   "outputs": [],
   "source": []
  },
  {
   "cell_type": "code",
   "execution_count": null,
   "metadata": {},
   "outputs": [],
   "source": []
  },
  {
   "cell_type": "code",
   "execution_count": null,
   "metadata": {},
   "outputs": [],
   "source": []
  }
 ],
 "metadata": {
  "kernelspec": {
   "display_name": "Python 3",
   "language": "python",
   "name": "python3"
  },
  "language_info": {
   "codemirror_mode": {
    "name": "ipython",
    "version": 3
   },
   "file_extension": ".py",
   "mimetype": "text/x-python",
   "name": "python",
   "nbconvert_exporter": "python",
   "pygments_lexer": "ipython3",
   "version": "3.12.6"
  }
 },
 "nbformat": 4,
 "nbformat_minor": 2
}
