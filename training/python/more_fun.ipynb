{
 "cells": [
  {
   "cell_type": "code",
   "execution_count": null,
   "metadata": {},
   "outputs": [],
   "source": [
    "### filter , reduce "
   ]
  },
  {
   "cell_type": "code",
   "execution_count": null,
   "metadata": {},
   "outputs": [],
   "source": []
  },
  {
   "cell_type": "code",
   "execution_count": 2,
   "metadata": {},
   "outputs": [
    {
     "name": "stdout",
     "output_type": "stream",
     "text": [
      "[1, 3, 5, 7, 9]\n"
     ]
    }
   ],
   "source": [
    "lst = [1,2,3,4,5,6,7,8,9,10]\n",
    "\n",
    "# filter function to get even numbers\n",
    "\n",
    "even_numbers = list(filter(lambda x: x % 2 !=0, lst))\n",
    "\n",
    "print(even_numbers)"
   ]
  },
  {
   "cell_type": "code",
   "execution_count": 6,
   "metadata": {},
   "outputs": [
    {
     "name": "stdout",
     "output_type": "stream",
     "text": [
      "15\n"
     ]
    }
   ],
   "source": [
    "## reduce function \n",
    "\n",
    "from functools import reduce \n",
    "def add(x, y):\n",
    "    return x + y    \n",
    "\n",
    "# using reduce to add all numbers in the list\n",
    "lst = [1,2,3,4,5]\n",
    "sum_of_numbers = reduce(add, lst)\n",
    "\n",
    "print(sum_of_numbers)\n",
    "\n",
    "\n",
    "\n"
   ]
  },
  {
   "cell_type": "code",
   "execution_count": null,
   "metadata": {},
   "outputs": [],
   "source": [
    "# [3,3,4,5] --> [6,4,5] --> [10,5] -- > [15]"
   ]
  },
  {
   "cell_type": "code",
   "execution_count": null,
   "metadata": {},
   "outputs": [],
   "source": [
    "## numbers = [1,2,3,4,5,6,7,8,9,10]\n",
    "# 1 -> filter even number hai \n",
    "# 2 --> map to get sqaures of even even_numbers\n",
    "# 3 --> reduce to mutiply all squares"
   ]
  },
  {
   "cell_type": "code",
   "execution_count": 2,
   "metadata": {},
   "outputs": [
    {
     "name": "stdout",
     "output_type": "stream",
     "text": [
      "my age is 20\n"
     ]
    }
   ],
   "source": [
    "age = 20 \n",
    "# text = \"my age is \" + age\n",
    "\n",
    "##formatted string / f-string\n",
    "\n",
    "text = f\"my age is {age}\"   \n",
    "\n",
    "print(text)\n",
    "\n",
    "# string concatenation\n",
    "\n",
    "\n",
    "# print(text)"
   ]
  },
  {
   "cell_type": "code",
   "execution_count": null,
   "metadata": {},
   "outputs": [],
   "source": [
    "## escape charatcters "
   ]
  },
  {
   "cell_type": "code",
   "execution_count": 2,
   "metadata": {},
   "outputs": [
    {
     "name": "stdout",
     "output_type": "stream",
     "text": [
      "3 apple\n",
      "4 orange\n",
      "5 banana\n"
     ]
    }
   ],
   "source": [
    "## enumerate \n",
    "#enumerate(iterable, start=0)\n",
    "\n",
    "lst = [\"apple\", \"orange\", \"banana\"]\n",
    "\n",
    "for index, fruit in enumerate(lst, start = 3):\n",
    "    print(index, fruit)"
   ]
  },
  {
   "cell_type": "code",
   "execution_count": null,
   "metadata": {},
   "outputs": [],
   "source": []
  },
  {
   "cell_type": "code",
   "execution_count": null,
   "metadata": {},
   "outputs": [],
   "source": []
  },
  {
   "cell_type": "code",
   "execution_count": null,
   "metadata": {},
   "outputs": [],
   "source": []
  }
 ],
 "metadata": {
  "kernelspec": {
   "display_name": "Python 3",
   "language": "python",
   "name": "python3"
  },
  "language_info": {
   "codemirror_mode": {
    "name": "ipython",
    "version": 3
   },
   "file_extension": ".py",
   "mimetype": "text/x-python",
   "name": "python",
   "nbconvert_exporter": "python",
   "pygments_lexer": "ipython3",
   "version": "3.12.6"
  }
 },
 "nbformat": 4,
 "nbformat_minor": 2
}
