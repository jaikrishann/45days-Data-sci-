{
 "cells": [
  {
   "cell_type": "markdown",
   "metadata": {},
   "source": [
    "'r': Read mode (default). Opens the file for reading.\n",
    "\n",
    " 'w': Write mode. Opens the file for writing (and creates the file if it doesn't exist).\n",
    "\n",
    " 'a': Append mode. Opens the file for appending; data will be written at the end of the file.\n",
    "\n",
    "'b': Binary mode. Can be appended to other modes (e.g., 'rb' or 'wb') \n",
    " to read/write binary files.\n",
    " \n",
    " '+': Update mode. Opens the file for both reading and writing."
   ]
  },
  {
   "cell_type": "markdown",
   "metadata": {},
   "source": [
    "\tr+\tIt opens the file to read and write both. The file pointer exists at the beginning of the file.\n",
    "\n",
    "\trb+\tIt opens the file to read and write both in binary format. The file pointer exists at the beginning of the file.\n",
    "\n",
    "    r means to read. So, it opens a file for read-only operation. The file pointer exists at the beginning. The file is by default open in this mode if no access mode is passed.\n",
    "\n",
    "\trb\tIt opens the file to read-only in binary format. The file pointer exists at the beginning of the file.\n",
    "    \n",
    "\tr+\tIt opens the file to read and write both. The file pointer exists at the beginning of the file.\n",
    "\n",
    "\trb+\tIt opens the file to read and write both in binary format. The file pointer exists at the beginning of the file.\n",
    "\n",
    "\tw\tIt opens the file to write only. It overwrites the file if previously exists or creates a new one if no file exists with the same name. The file pointer exists at the beginning of the file.\n",
    "\n",
    "\twb\tIt opens the file to write only in binary format. It overwrites the file if it exists previously or creates a new one if no file exists. The file pointer exists at the beginning of the file.\n",
    "\n",
    "\tw+\tIt opens the file to write and read both. It is different from r+ in the sense that it overwrites the previous file if one exists whereas r+ doesn't overwrite the previously written file. It creates a new file if no file exists. The file pointer exists at the beginning of the file.\n",
    "\n",
    "\twb+\tIt opens the file to write and read both in binary format. The file pointer exists at the beginning of the file.\n",
    "\n",
    "\ta\tIt opens the file in the append mode. The file pointer exists at the end of the previously written file if exists any. It creates a new file if no file exists with the same name.\n",
    "\n",
    "\tab\tIt opens the file in the append mode in binary format. The pointer exists at the end of the previously written file. It creates a new file in binary format if no file exists with the same name.\n",
    "\n",
    "\ta+\tIt opens a file to append and read both. The file pointer remains at the end of the file if a file exists. It creates a new file if no file exists with the same name.\n",
    "    \n",
    "\tab+\tIt opens a file to append and read both in binary format. The file pointer remains at the end of the file."
   ]
  },
  {
   "cell_type": "code",
   "execution_count": 2,
   "metadata": {},
   "outputs": [
    {
     "name": "stdout",
     "output_type": "stream",
     "text": [
      "hey \n",
      "my name is jai \n",
      "jai shree ram \n",
      "\n"
     ]
    }
   ],
   "source": [
    "with open(\"hello.txt\" , \"r\") as file:\n",
    "    content = file.read()\n",
    "    print(content)"
   ]
  },
  {
   "cell_type": "code",
   "execution_count": 1,
   "metadata": {},
   "outputs": [
    {
     "name": "stdout",
     "output_type": "stream",
     "text": [
      "hey \n",
      "my name is jai \n",
      "jai shree ram \n",
      "\n"
     ]
    }
   ],
   "source": [
    "file = open(\"hello.txt\" , \"r\")\n",
    "\n",
    "content = file.read()\n",
    "\n",
    "print(content)\n",
    "\n",
    "file.close()\n"
   ]
  },
  {
   "cell_type": "code",
   "execution_count": 8,
   "metadata": {},
   "outputs": [
    {
     "name": "stdout",
     "output_type": "stream",
     "text": [
      "h\n"
     ]
    }
   ],
   "source": [
    "with open(\"hello.txt\" , \"r\") as file:\n",
    "    content = file.readline(1)\n",
    "    print(content)"
   ]
  },
  {
   "cell_type": "code",
   "execution_count": 16,
   "metadata": {},
   "outputs": [
    {
     "name": "stdout",
     "output_type": "stream",
     "text": [
      "['hey \\n', 'my name is jai \\n', 'jai shree ram \\n']\n"
     ]
    }
   ],
   "source": [
    "with open(\"hello.txt\" , \"r\") as file:\n",
    "    content = file.readlines()\n",
    "    print(content)"
   ]
  },
  {
   "cell_type": "code",
   "execution_count": 22,
   "metadata": {},
   "outputs": [],
   "source": [
    "## write \n",
    "\n",
    "with open(\"hello.txt\" , \"w\") as file:\n",
    "    # file.write(\"Hello World!\")\n",
    "    # file.write(\"\\nThis is a new line.\")\n",
    "    file.write(\"\\n new line.\")\n"
   ]
  },
  {
   "cell_type": "code",
   "execution_count": 26,
   "metadata": {},
   "outputs": [
    {
     "name": "stdout",
     "output_type": "stream",
     "text": [
      "hey \n",
      "my name is jai \n",
      "jai shree ram \n",
      "\n"
     ]
    }
   ],
   "source": [
    "with open(\"hello.txt\" , \"r\") as file:\n",
    "    content = file.read()\n",
    "    print(content)"
   ]
  },
  {
   "cell_type": "code",
   "execution_count": 25,
   "metadata": {},
   "outputs": [],
   "source": [
    "lines = ['hey \\n', 'my name is jai \\n', 'jai shree ram \\n']\n",
    "with open(\"hello.txt\",\"w\") as file:\n",
    "    file.writelines(lines)"
   ]
  },
  {
   "cell_type": "code",
   "execution_count": 32,
   "metadata": {},
   "outputs": [],
   "source": [
    "## append \n",
    "\n",
    "with open(\"hello1.txt\" , \"a\") as file:\n",
    "    file.write(\" new line added at the end.\")\n",
    "\n",
    "# with open(\"hello1.txt\" , \"r\") as file:\n",
    "#     content = file.read()\n",
    "#     print(content)"
   ]
  },
  {
   "cell_type": "code",
   "execution_count": null,
   "metadata": {},
   "outputs": [],
   "source": []
  }
 ],
 "metadata": {
  "kernelspec": {
   "display_name": "Python 3",
   "language": "python",
   "name": "python3"
  },
  "language_info": {
   "codemirror_mode": {
    "name": "ipython",
    "version": 3
   },
   "file_extension": ".py",
   "mimetype": "text/x-python",
   "name": "python",
   "nbconvert_exporter": "python",
   "pygments_lexer": "ipython3",
   "version": "3.12.6"
  }
 },
 "nbformat": 4,
 "nbformat_minor": 2
}
