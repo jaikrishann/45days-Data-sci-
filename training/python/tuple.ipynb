{
 "cells": [
  {
   "cell_type": "code",
   "execution_count": 1,
   "metadata": {},
   "outputs": [
    {
     "name": "stdout",
     "output_type": "stream",
     "text": [
      "hello world\n"
     ]
    }
   ],
   "source": [
    "print(\"hello world\")"
   ]
  },
  {
   "cell_type": "markdown",
   "metadata": {},
   "source": [
    "# Tuple"
   ]
  },
  {
   "cell_type": "code",
   "execution_count": 3,
   "metadata": {},
   "outputs": [
    {
     "name": "stdout",
     "output_type": "stream",
     "text": [
      "('apple', 'banana', 'cherry', 'apple')\n",
      "<class 'tuple'>\n"
     ]
    }
   ],
   "source": [
    "# Tuple items are ordered, unchangeable(Immutable), and allow duplicate values.\n",
    "\n",
    "my_tuple = (\"apple\", \"banana\", \"cherry\",\"apple\")\n",
    "print(my_tuple)\n",
    "print(type(my_tuple))\n",
    "\n",
    "\n"
   ]
  },
  {
   "cell_type": "code",
   "execution_count": 4,
   "metadata": {},
   "outputs": [
    {
     "name": "stdout",
     "output_type": "stream",
     "text": [
      "banana\n",
      "apple\n"
     ]
    }
   ],
   "source": [
    "## accessing \n",
    "\n",
    "print(my_tuple[1]) # Output: banana\n",
    "print(my_tuple[-1]) # Output: cherry\n",
    "\n"
   ]
  },
  {
   "cell_type": "code",
   "execution_count": 6,
   "metadata": {},
   "outputs": [],
   "source": [
    "# my_tuple[1] = \"red\"\n",
    "# print(my_tuple)"
   ]
  },
  {
   "cell_type": "code",
   "execution_count": 7,
   "metadata": {},
   "outputs": [
    {
     "name": "stdout",
     "output_type": "stream",
     "text": [
      "red\n",
      "<class 'str'>\n"
     ]
    }
   ],
   "source": [
    "tpl = (\"red\",)\n",
    "print(tpl) # Output:\n",
    "print(type(tpl)) # Output:"
   ]
  },
  {
   "cell_type": "code",
   "execution_count": 8,
   "metadata": {},
   "outputs": [
    {
     "name": "stdout",
     "output_type": "stream",
     "text": [
      "['apple']\n",
      "<class 'list'>\n"
     ]
    }
   ],
   "source": [
    "lst = [\"apple\"]\n",
    "print(lst) # Output:\n",
    "print(type(lst)) # Output:|"
   ]
  },
  {
   "cell_type": "code",
   "execution_count": 10,
   "metadata": {},
   "outputs": [
    {
     "name": "stdout",
     "output_type": "stream",
     "text": [
      "('red', 'black', 'blue', 'green')\n"
     ]
    }
   ],
   "source": [
    "tpl = (\"red\",\"black\",\"blue\")\n",
    "y = list(tpl)\n",
    "\n",
    "# y[1] = \"green\"\n",
    "y.append(\"green\") # Output:\n",
    "\n",
    "tpl = tuple(y)\n",
    "\n",
    "print(tpl) # Output: ('red', 'green', 'blue')\n",
    "\n"
   ]
  },
  {
   "cell_type": "code",
   "execution_count": null,
   "metadata": {},
   "outputs": [],
   "source": []
  }
 ],
 "metadata": {
  "kernelspec": {
   "display_name": "Python 3",
   "language": "python",
   "name": "python3"
  },
  "language_info": {
   "codemirror_mode": {
    "name": "ipython",
    "version": 3
   },
   "file_extension": ".py",
   "mimetype": "text/x-python",
   "name": "python",
   "nbconvert_exporter": "python",
   "pygments_lexer": "ipython3",
   "version": "3.12.6"
  }
 },
 "nbformat": 4,
 "nbformat_minor": 2
}
