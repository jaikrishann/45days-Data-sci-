{
 "cells": [
  {
   "cell_type": "code",
   "execution_count": 5,
   "metadata": {},
   "outputs": [
    {
     "name": "stdout",
     "output_type": "stream",
     "text": [
      "{'banana', 1, 'cherry', 'apple'}\n"
     ]
    }
   ],
   "source": [
    "# Set items are unordered, unchangeable, and do not allow duplicate values.\n",
    "\n",
    "\n",
    "# Create a set\n",
    "\n",
    "my_set = {\"apple\", \"banana\", \"cherry\",1,\"apple\",True}\n",
    "\n",
    "print(my_set)"
   ]
  },
  {
   "cell_type": "code",
   "execution_count": 8,
   "metadata": {},
   "outputs": [
    {
     "name": "stdout",
     "output_type": "stream",
     "text": [
      "{'banana', 'apple', 'pineapple', 'cherry', 'watermelon'}\n"
     ]
    }
   ],
   "source": [
    "my_set = {\"apple\", \"banana\", \"cherry\"}\n",
    "# my_set.add(\"watermelon\")\n",
    "\n",
    "my_set.update([\"watermelon\", \"pineapple\"])\n",
    "\n",
    "print(my_set)\n",
    "\n",
    "\n",
    "# print(my_set)"
   ]
  },
  {
   "cell_type": "code",
   "execution_count": null,
   "metadata": {},
   "outputs": [],
   "source": []
  }
 ],
 "metadata": {
  "kernelspec": {
   "display_name": "Python 3",
   "language": "python",
   "name": "python3"
  },
  "language_info": {
   "codemirror_mode": {
    "name": "ipython",
    "version": 3
   },
   "file_extension": ".py",
   "mimetype": "text/x-python",
   "name": "python",
   "nbconvert_exporter": "python",
   "pygments_lexer": "ipython3",
   "version": "3.12.6"
  }
 },
 "nbformat": 4,
 "nbformat_minor": 2
}
