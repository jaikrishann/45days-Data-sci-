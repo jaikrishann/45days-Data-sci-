{
 "cells": [
  {
   "cell_type": "markdown",
   "metadata": {},
   "source": [
    "## Functions\n"
   ]
  },
  {
   "cell_type": "code",
   "execution_count": 1,
   "metadata": {},
   "outputs": [],
   "source": [
    "## built in and user made \n",
    "\n",
    "\n",
    "def hello():\n",
    "    #body of function\n",
    "    print(\"jai shree ramm\")\n",
    "    "
   ]
  },
  {
   "cell_type": "code",
   "execution_count": 2,
   "metadata": {},
   "outputs": [
    {
     "name": "stdout",
     "output_type": "stream",
     "text": [
      "jai shree ramm\n"
     ]
    }
   ],
   "source": [
    "hello()           ##calling a function"
   ]
  },
  {
   "cell_type": "code",
   "execution_count": 4,
   "metadata": {},
   "outputs": [],
   "source": [
    "def code():\n",
    "    print(\"ha bhai kya haal\")\n",
    "    "
   ]
  },
  {
   "cell_type": "code",
   "execution_count": 5,
   "metadata": {},
   "outputs": [
    {
     "name": "stdout",
     "output_type": "stream",
     "text": [
      "ha bhai kya haal\n"
     ]
    }
   ],
   "source": [
    "code()"
   ]
  },
  {
   "cell_type": "code",
   "execution_count": 2,
   "metadata": {},
   "outputs": [
    {
     "name": "stdout",
     "output_type": "stream",
     "text": [
      "5\n"
     ]
    }
   ],
   "source": [
    "def addd():\n",
    "    num1 = 2\n",
    "    num2 = 3\n",
    "    print(num1 + num2)\n",
    "\n",
    "\n",
    "addd()\n"
   ]
  },
  {
   "cell_type": "code",
   "execution_count": 6,
   "metadata": {},
   "outputs": [],
   "source": [
    "##parameter and arguements \n",
    "def add(num1,num2):\n",
    "    result = num1 + num2 \n",
    "    print(result)\n",
    "    "
   ]
  },
  {
   "cell_type": "code",
   "execution_count": 7,
   "metadata": {},
   "outputs": [
    {
     "name": "stdout",
     "output_type": "stream",
     "text": [
      "579\n"
     ]
    }
   ],
   "source": [
    "add(12,567)"
   ]
  },
  {
   "cell_type": "code",
   "execution_count": 13,
   "metadata": {},
   "outputs": [
    {
     "name": "stdout",
     "output_type": "stream",
     "text": [
      "mr jai\n"
     ]
    }
   ],
   "source": [
    "def name(firstname , lastname):\n",
    "    print(firstname + \" \" + lastname)\n",
    "\n",
    "\n",
    "name(firstname=\"mr\", lastname=\"jai\")\n"
   ]
  },
  {
   "cell_type": "code",
   "execution_count": 12,
   "metadata": {},
   "outputs": [
    {
     "name": "stdout",
     "output_type": "stream",
     "text": [
      "mr jai\n"
     ]
    }
   ],
   "source": [
    "# name(\"mr\",\"jai\")\n",
    "name(firstname=\"mr\", lastname=\"jai\")\n"
   ]
  },
  {
   "cell_type": "code",
   "execution_count": 19,
   "metadata": {},
   "outputs": [
    {
     "name": "stdout",
     "output_type": "stream",
     "text": [
      "i am from usa\n",
      "i am from china\n",
      "i am from India\n"
     ]
    }
   ],
   "source": [
    "##default value \n",
    "\n",
    "def country(name = \"India\"):\n",
    "    print(\"i am from\", name)\n",
    "\n",
    "country(\"usa\")\n",
    "country(\"china\")\n",
    "country()"
   ]
  },
  {
   "cell_type": "code",
   "execution_count": 26,
   "metadata": {},
   "outputs": [
    {
     "name": "stdout",
     "output_type": "stream",
     "text": [
      "30\n",
      "40\n"
     ]
    }
   ],
   "source": [
    "def multiply(x):\n",
    "    print (10 * x)\n",
    "\n",
    "multiply(3)\n",
    "multiply(4)"
   ]
  },
  {
   "cell_type": "code",
   "execution_count": 33,
   "metadata": {},
   "outputs": [
    {
     "name": "stdout",
     "output_type": "stream",
     "text": [
      "red\n",
      "black\n",
      "jai\n",
      "ram\n"
     ]
    }
   ],
   "source": [
    "def fruits(food):\n",
    "    for i in food:\n",
    "        print(i)\n",
    "\n",
    "\n",
    "fruit = [\"red\",\"black\",\"jai\",\"ram\"]\n",
    "fruits(fruit)"
   ]
  },
  {
   "cell_type": "code",
   "execution_count": 5,
   "metadata": {},
   "outputs": [
    {
     "data": {
      "text/plain": [
       "216"
      ]
     },
     "execution_count": 5,
     "metadata": {},
     "output_type": "execute_result"
    }
   ],
   "source": [
    "###map,reduce,filter,lambda\n",
    "\n",
    "def cube(x = 6):\n",
    "    return x*x*x\n",
    "\n",
    "cube()\n",
    "\n",
    "\n",
    "\n"
   ]
  },
  {
   "cell_type": "code",
   "execution_count": 7,
   "metadata": {},
   "outputs": [
    {
     "name": "stdout",
     "output_type": "stream",
     "text": [
      "4\n"
     ]
    }
   ],
   "source": [
    "x = lambda a : a*a*a\n",
    "\n",
    "print(x(2))"
   ]
  },
  {
   "cell_type": "code",
   "execution_count": 8,
   "metadata": {},
   "outputs": [
    {
     "name": "stdout",
     "output_type": "stream",
     "text": [
      "4\n"
     ]
    }
   ],
   "source": [
    "y = lambda b,c,d: b+c*d\n",
    "print(y(2,1,2))\n",
    "\n",
    "#bodmas \n",
    "# divide,multiply,add,sub"
   ]
  },
  {
   "cell_type": "code",
   "execution_count": 10,
   "metadata": {},
   "outputs": [
    {
     "name": "stdout",
     "output_type": "stream",
     "text": [
      "[1, 8, 27, 64, 125]\n"
     ]
    }
   ],
   "source": [
    "lst = [1,2,3,4,5]\n",
    "temp = []\n",
    "\n",
    "for i in lst:\n",
    "    temp.append(cube(i))\n",
    "print(temp)\n"
   ]
  },
  {
   "cell_type": "code",
   "execution_count": 13,
   "metadata": {},
   "outputs": [
    {
     "name": "stdout",
     "output_type": "stream",
     "text": [
      "[1, 8, 27, 64, 125]\n"
     ]
    }
   ],
   "source": [
    "##map function \n",
    "lst = [1,2,3,4,5]\n",
    "newlst = list(map(cube,lst))\n",
    "print(newlst)"
   ]
  },
  {
   "cell_type": "code",
   "execution_count": 15,
   "metadata": {},
   "outputs": [
    {
     "name": "stdout",
     "output_type": "stream",
     "text": [
      "[2, 4, 6, 8, 10]\n"
     ]
    }
   ],
   "source": [
    "lst = [1,2,3,4,5]\n",
    "newlst = list(map(lambda x :x*2,lst))\n",
    "print(newlst)"
   ]
  },
  {
   "cell_type": "code",
   "execution_count": null,
   "metadata": {},
   "outputs": [],
   "source": []
  }
 ],
 "metadata": {
  "kernelspec": {
   "display_name": "Python 3",
   "language": "python",
   "name": "python3"
  },
  "language_info": {
   "codemirror_mode": {
    "name": "ipython",
    "version": 3
   },
   "file_extension": ".py",
   "mimetype": "text/x-python",
   "name": "python",
   "nbconvert_exporter": "python",
   "pygments_lexer": "ipython3",
   "version": "3.12.6"
  }
 },
 "nbformat": 4,
 "nbformat_minor": 2
}
