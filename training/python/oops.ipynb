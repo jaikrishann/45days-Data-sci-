{
 "cells": [
  {
   "cell_type": "code",
   "execution_count": 18,
   "metadata": {},
   "outputs": [],
   "source": [
    "class Animal:\n",
    "    ## class variables\n",
    "    name = \"elephant\"\n",
    "    weight = 2000\n",
    "    age = 40 \n",
    "\n",
    "    #method vs function\n",
    "    def display(self):\n",
    "        print(f\"Name: {self.name}, Weight: {self.weight}, Age: {self.age}\") \n",
    "\n",
    "\n"
   ]
  },
  {
   "cell_type": "code",
   "execution_count": null,
   "metadata": {},
   "outputs": [],
   "source": [
    "## objects -- jinhka state aur behavior(kaaam kya kar rahi ) --(methods)"
   ]
  },
  {
   "cell_type": "code",
   "execution_count": 24,
   "metadata": {},
   "outputs": [
    {
     "name": "stdout",
     "output_type": "stream",
     "text": [
      "Name: elephant, Weight: 2000, Age: 40\n",
      "Name: tiger, Weight: 2000, Age: 40\n"
     ]
    }
   ],
   "source": [
    "ani = Animal()\n",
    "ani.display()\n",
    "\n",
    "\n",
    "ani1 = Animal()\n",
    "ani1.name = \"tiger\"\n",
    "\n",
    "ani1.display()"
   ]
  },
  {
   "cell_type": "code",
   "execution_count": 8,
   "metadata": {},
   "outputs": [],
   "source": [
    "# obj= Animal()\n",
    "# print(obj.name)"
   ]
  },
  {
   "cell_type": "code",
   "execution_count": 9,
   "metadata": {},
   "outputs": [],
   "source": [
    "# obj.display()"
   ]
  },
  {
   "cell_type": "code",
   "execution_count": 5,
   "metadata": {},
   "outputs": [],
   "source": [
    "class jai:\n",
    "    name = \"jai\"\n",
    "    age = 21\n",
    "    work = \"data sci\""
   ]
  },
  {
   "cell_type": "code",
   "execution_count": 27,
   "metadata": {},
   "outputs": [],
   "source": [
    "##__init__ -- constructor -- initialize variables ----magic keywords\n",
    "\n",
    "class animal:\n",
    "    def __init__(self,name , weight, age):\n",
    "        self.animal_name = name\n",
    "        self.animal_weight = weight                                    ##methods ya properties\n",
    "        self.animal_age = age\n",
    "\n",
    "    def display(self):\n",
    "        print(f\"Name: {self.animal_name}, Weight: {self.animal_weight}, Age: {self.animal_age}\")\n",
    "\n"
   ]
  },
  {
   "cell_type": "code",
   "execution_count": 26,
   "metadata": {},
   "outputs": [
    {
     "name": "stdout",
     "output_type": "stream",
     "text": [
      "20\n",
      "200\n",
      "Name: zebra, Weight: 20, Age: 5\n"
     ]
    }
   ],
   "source": [
    "obj = animal(name = \"tiger\", age = 20,weight=200)\n",
    "print(obj.animal_age)\n",
    "print(obj.animal_weight)\n",
    "\n",
    "\n",
    "obj2 = animal(\"snake\", 20 , 5)\n",
    "obj2.animal_name = \"zebra\"\n",
    "obj2.display()"
   ]
  },
  {
   "cell_type": "code",
   "execution_count": null,
   "metadata": {},
   "outputs": [],
   "source": [
    "## inheritance , polymorphism , encapsulation, abstraction"
   ]
  },
  {
   "cell_type": "code",
   "execution_count": null,
   "metadata": {},
   "outputs": [],
   "source": [
    "##inheritance \n",
    "## issme aapke paas hogi ek parent class aur usske methods aur properties ko access kar payegi ek child class with the help of inheritance \n",
    "## 5 types -- single level , multiple , multilevel , hierarchy , hybrid "
   ]
  },
  {
   "cell_type": "code",
   "execution_count": null,
   "metadata": {},
   "outputs": [],
   "source": [
    "## single level \n",
    "## issme ek he parent class hogi aur ek he child class hogi \n",
    "\n",
    "##parent class ------> child class\n",
    "\n",
    "\n"
   ]
  },
  {
   "cell_type": "code",
   "execution_count": 39,
   "metadata": {},
   "outputs": [
    {
     "name": "stdout",
     "output_type": "stream",
     "text": [
      "Name: Mohan singh, Age: 50\n",
      "Name: rohan singh, Age: 45\n",
      "100\n",
      "200\n"
     ]
    }
   ],
   "source": [
    "class Father:\n",
    "     #class variables\n",
    "    num1 = 100\n",
    "    num2 = 200\n",
    "\n",
    "    ##instance variables\n",
    "    def __init__(self, name, age):\n",
    "        self.father_name = name\n",
    "        self.age = age\n",
    "\n",
    "    def display(self):\n",
    "        print(f\"Name: {self.father_name}, Age: {self.age}\")\n",
    "\n",
    "class Son(Father):\n",
    "\n",
    "    def sonn_hii(self):\n",
    "        print(\"Hii\")\n",
    "        \n",
    "\n",
    "\n",
    "\n",
    "son_obj=Son(\"Mohan singh\", 50 )\n",
    "\n",
    "son_obj.display()\n",
    "\n",
    "# son_obj.sonn_hii()\\\n",
    "\n",
    "father_obj = Father(\"rohan singh\", 45)\n",
    "\n",
    "father_obj.display()\n",
    "\n",
    "# father_obj.sonn_hii()\n",
    "\n",
    "print(son_obj.num1)\n",
    "print(father_obj.num2)"
   ]
  },
  {
   "cell_type": "code",
   "execution_count": 2,
   "metadata": {},
   "outputs": [
    {
     "name": "stdout",
     "output_type": "stream",
     "text": [
      "Child's constructor called\n",
      "Papa Name: John\n",
      "Papa Age: 45 years\n",
      "Mummy Name: Jane\n",
      "Mummy Age: 42 years\n",
      "Child Name: Anna\n",
      "Child Age: 10 years\n"
     ]
    }
   ],
   "source": [
    "##multiple \n",
    "\n",
    "class Papa:\n",
    "    def __init__(self, name, age):\n",
    "        self.papa_name = name\n",
    "        self.papa_age = age\n",
    "\n",
    "    def display(self):\n",
    "        print(f\"Papa Name: {self.papa_name}\")\n",
    "        print(f\"Papa Age: {self.papa_age} years\")\n",
    "\n",
    "\n",
    "class Mummy:\n",
    "    def __init__(self, name, age):\n",
    "        self.mummy_name = name\n",
    "        self.mummy_age = age\n",
    "\n",
    "    def display(self):\n",
    "        print(f\"Mummy Name: {self.mummy_name}\")\n",
    "        print(f\"Mummy Age: {self.mummy_age} years\")\n",
    "\n",
    "\n",
    "class Child(Papa, Mummy):\n",
    "    def __init__(self, papa_name, papa_age, mummy_name, mummy_age, child_name, child_age):\n",
    "        Papa.__init__(self, papa_name, papa_age)  # Calls Papa's constructor\n",
    "        Mummy.__init__(self, mummy_name, mummy_age)  # Calls Mummy's constructor\n",
    "        self.child_name = child_name\n",
    "        self.child_age = child_age\n",
    "        print(\"Child's constructor called\")\n",
    "\n",
    "        ###super function  -- ek se jyda parent class hoti hai toh maan lo aapko kisi ek class me se aapko koi method call karna hai toh aap super keyword ka user karoge \n",
    "    \n",
    "    def display(self):\n",
    "        # Displaying all details including Papa's and Mummy's details\n",
    "        Papa.display(self)  # Call Papa's display method\n",
    "        Mummy.display(self)  # Call Mummy's display method\n",
    "        print(f\"Child Name: {self.child_name}\")\n",
    "        print(f\"Child Age: {self.child_age} years\")\n",
    "\n",
    "\n",
    "# Example of creating an object and using display\n",
    "child = Child(\"John\", 45, \"Jane\", 42, \"Anna\", 10)\n",
    "child.display()\n",
    "# "
   ]
  },
  {
   "cell_type": "code",
   "execution_count": 8,
   "metadata": {},
   "outputs": [
    {
     "name": "stdout",
     "output_type": "stream",
     "text": [
      "hello\n",
      "Parent Method\n"
     ]
    }
   ],
   "source": [
    "class parent_class:\n",
    "    def parent_method(self):\n",
    "        print(\"Parent Method\")\n",
    "\n",
    "class child_class(parent_class):\n",
    "    def parent_method(self):\n",
    "        print(\"Child Method\")\n",
    "        # super().parent_method()\n",
    "\n",
    "\n",
    "    def child_method(self):\n",
    "        print(\"hello\")\n",
    "        super().parent_method()\n",
    "\n",
    "\n",
    "child_object= child_class()\n",
    "child_object.child_method()\n",
    "\n",
    "# child_object.parent_method()"
   ]
  },
  {
   "cell_type": "code",
   "execution_count": 4,
   "metadata": {},
   "outputs": [
    {
     "name": "stdout",
     "output_type": "stream",
     "text": [
      "This is your grandpa HGJK\n",
      "And now I am 60 years old\n",
      "And still I am healthy\n",
      "\n",
      "Hi son, this is your father Mohan\n",
      "My father's name is HGJK\n",
      "My mother's name is XYZ\n",
      "And I am from QWER\n",
      "\n",
      "My name is Jai\n",
      "I am working as a Data Scientist\n",
      "And I am working at Upflairs\n",
      "Hello, I am Jai\n",
      "I am working at Upflairs\n",
      "As a Data Scientist\n"
     ]
    }
   ],
   "source": [
    "## multilevel \n",
    "class Grandfather:\n",
    "    def __init__(self, grandfather_name, grandfather_age, grandfather_health):\n",
    "        self.grandfather_name = grandfather_name\n",
    "        self.grandfather_age = grandfather_age\n",
    "        self.grandfather_health = grandfather_health\n",
    "\n",
    "    def grandfather_hii(self):\n",
    "        print(f\"This is your grandpa {self.grandfather_name}\")\n",
    "        print(f\"And now I am {self.grandfather_age} years old\")\n",
    "        print(f\"And still I am {self.grandfather_health}\")\n",
    "\n",
    "#The super() function is used to give access to methods and properties of a parent or sibling class.\n",
    "\n",
    "# The super() function returns an object that represents the parent class.\n",
    "\n",
    "\n",
    "class Father(Grandfather):\n",
    "    def __init__(self, father_name, mother_name, address, grandfather_name, grandfather_age, grandfather_health):\n",
    "        super().__init__(grandfather_name, grandfather_age, grandfather_health)\n",
    "        self.father_name = father_name\n",
    "        self.mother_name = mother_name\n",
    "        self.address = address\n",
    "\n",
    "    def father_hii(self):\n",
    "        print(f\"Hi son, this is your father {self.father_name}\")\n",
    "        print(f\"My father's name is {self.grandfather_name}\")\n",
    "        print(f\"My mother's name is {self.mother_name}\")\n",
    "        print(f\"And I am from {self.address}\")\n",
    "\n",
    "\n",
    "class Child(Father):\n",
    "    def __init__(self, my_name, my_profession, my_company,father_name, mother_name, address, grandfather_name, grandfather_age, grandfather_health):\n",
    "        super().__init__(father_name, mother_name, address, grandfather_name, grandfather_age, grandfather_health)\n",
    "        self.my_name = my_name\n",
    "        self.my_profession = my_profession\n",
    "        self.my_company = my_company\n",
    "\n",
    "    def full_intro(self):\n",
    "        self.grandfather_hii()\n",
    "        print()\n",
    "        self.father_hii()\n",
    "        print()\n",
    "        print(f\"My name is {self.my_name}\")\n",
    "        print(f\"I am working as a {self.my_profession}\")\n",
    "        print(f\"And I am working at {self.my_company}\")\n",
    "\n",
    "    def child_hii(self):\n",
    "        print(f\"Hello, I am {self.my_name}\")\n",
    "        print(f\"I am working at {self.my_company}\")\n",
    "        print(f\"As a {self.my_profession}\")\n",
    "\n",
    "\n",
    "child_class_obj = Child(my_name=\"Jai\", my_profession=\"Data Scientist\", my_company=\"Upflairs\", father_name=\"Mohan\", mother_name=\"XYZ\", address=\"QWER\", grandfather_name=\"HGJK\", grandfather_age=60, grandfather_health=\"healthy\")\n",
    "child_class_obj.full_intro()\n",
    "child_class_obj.child_hii()\n"
   ]
  },
  {
   "cell_type": "code",
   "execution_count": null,
   "metadata": {},
   "outputs": [],
   "source": [
    "##polymorphism \n",
    "## ploy --- morph \n",
    "##many -- ways  \n",
    "## ek kaam ko karne ke alag alag tarike \n",
    "## ek method/function hoga jiskee kaam alag alag honge \n",
    "## lenght function  --- str , list , tuple , set , dict \n",
    "\n"
   ]
  },
  {
   "cell_type": "code",
   "execution_count": 18,
   "metadata": {},
   "outputs": [
    {
     "name": "stdout",
     "output_type": "stream",
     "text": [
      "The area of the shape is: 50\n",
      "The area of the shape is: 153.93804002589985\n",
      "The area of the shape is: 24.0\n"
     ]
    }
   ],
   "source": [
    "import math\n",
    "\n",
    "class Shape:\n",
    "    def area(self):\n",
    "        pass\n",
    "\n",
    "class Rectangle(Shape):\n",
    "    def __init__(self, width, height):\n",
    "        self.width = width\n",
    "        self.height = height\n",
    "\n",
    "    def area(self):\n",
    "        return self.width * self.height\n",
    "\n",
    "class Circle(Shape):\n",
    "    def __init__(self, radius):\n",
    "        self.radius = radius\n",
    "\n",
    "    def area(self):\n",
    "        return math.pi * self.radius ** 2\n",
    "\n",
    "class Triangle(Shape):\n",
    "    def __init__(self, base, height):\n",
    "        self.base = base\n",
    "        self.height = height\n",
    "\n",
    "    def area(self):\n",
    "        return 0.5 * self.base * self.height\n",
    "\n",
    "def print_area(shape):\n",
    "    print(f\"The area of the shape is: {shape.area()}\")\n",
    "\n",
    "# Creating instances of each shape\n",
    "rectangle = Rectangle(5, 10)\n",
    "circle = Circle(7)\n",
    "triangle = Triangle(6, 8)\n",
    "\n",
    "# Using polymorphism to call the area method\n",
    "print_area(rectangle)  # Outputs: The area of the shape is: 50\n",
    "print_area(circle)     # Outputs: The area of the shape is: 153.93804002589985\n",
    "print_area(triangle)   # Outputs: The area of the shape is: 24.0"
   ]
  },
  {
   "cell_type": "code",
   "execution_count": null,
   "metadata": {},
   "outputs": [],
   "source": [
    "## abstraction \n",
    "\n",
    "print\n",
    "from abc import ABC, abstractmethod"
   ]
  },
  {
   "cell_type": "code",
   "execution_count": null,
   "metadata": {},
   "outputs": [],
   "source": [
    "# Abstraction in object-oriented programming (OOP) is a concept that focuses on hiding the complex\n",
    "# implementation details and showing only the essential features of an object.\n",
    "# It allows us to define abstract classes and methods that can be implemented by derived classes."
   ]
  },
  {
   "cell_type": "code",
   "execution_count": 20,
   "metadata": {},
   "outputs": [
    {
     "name": "stdout",
     "output_type": "stream",
     "text": [
      "mohan\n"
     ]
    },
    {
     "ename": "AttributeError",
     "evalue": "'son' object has no attribute '__son_pass'",
     "output_type": "error",
     "traceback": [
      "\u001b[1;31m---------------------------------------------------------------------------\u001b[0m",
      "\u001b[1;31mAttributeError\u001b[0m                            Traceback (most recent call last)",
      "Cell \u001b[1;32mIn[20], line 26\u001b[0m\n\u001b[0;32m     24\u001b[0m \u001b[38;5;28mprint\u001b[39m(obj\u001b[38;5;241m.\u001b[39mson_name)   \n\u001b[0;32m     25\u001b[0m \u001b[38;5;66;03m# print(obj._son_id)\u001b[39;00m\n\u001b[1;32m---> 26\u001b[0m \u001b[38;5;28mprint\u001b[39m(\u001b[43mobj\u001b[49m\u001b[38;5;241;43m.\u001b[39;49m\u001b[43m__son_pass\u001b[49m)     \n",
      "\u001b[1;31mAttributeError\u001b[0m: 'son' object has no attribute '__son_pass'"
     ]
    }
   ],
   "source": [
    "## encapsulation\n",
    "## encapsulation\n",
    "# Encapsulation also restricts direct access to some of an object's components,\n",
    "# which is a means of preventing accidental interference and misuse of the methods and data.\n",
    "class fatherr:\n",
    "    son_name = \"mohan\"\n",
    "    son_age = \"16\"\n",
    "    _son_id= \"mohan@gmail.com\"\n",
    "    __son_pass = \"444\"\n",
    "\n",
    "    def display(self):\n",
    "        print(self.son_name,\"public variable\")\n",
    "        print(self._son_id,\"protected variable\")    \n",
    "        # protected variables can be accessed from within the class and its subclasses,\n",
    "        # but they are not intended to be accessed directly from outside the class.\n",
    "        print(self.__son_pass,\"private variable\")    \n",
    "        #This means they cannot be accessed directly from outside the class.\n",
    "\n",
    "class son(fatherr):\n",
    "    pass\n",
    "    \n",
    "\n",
    "obj= son()\n",
    "print(obj.son_name)   \n",
    "# print(obj._son_id)\n",
    "print(obj.__son_pass)     "
   ]
  },
  {
   "cell_type": "code",
   "execution_count": null,
   "metadata": {},
   "outputs": [],
   "source": [
    "###Numpy [integer] , Pandas -- data manipulation , matplotlib & seaborn -- data visualization\n"
   ]
  }
 ],
 "metadata": {
  "kernelspec": {
   "display_name": "Python 3",
   "language": "python",
   "name": "python3"
  },
  "language_info": {
   "codemirror_mode": {
    "name": "ipython",
    "version": 3
   },
   "file_extension": ".py",
   "mimetype": "text/x-python",
   "name": "python",
   "nbconvert_exporter": "python",
   "pygments_lexer": "ipython3",
   "version": "3.12.6"
  }
 },
 "nbformat": 4,
 "nbformat_minor": 2
}
